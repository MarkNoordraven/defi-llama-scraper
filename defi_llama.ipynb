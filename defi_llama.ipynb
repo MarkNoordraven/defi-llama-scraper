{
 "cells": [
  {
   "cell_type": "code",
   "execution_count": null,
   "id": "558476bd",
   "metadata": {},
   "outputs": [],
   "source": [
    "# install neccesary plugins\n",
    "!pip install pandas\n",
    "!pip install selenium\n",
    "!pip install webdriver_manager\n",
    "!pip install bs4"
   ]
  },
  {
   "cell_type": "code",
   "execution_count": null,
   "id": "5105eb2b",
   "metadata": {},
   "outputs": [],
   "source": [
    "# imports\n",
    "import pandas as pd\n",
    "import selenium\n",
    "from selenium import webdriver\n",
    "from selenium.webdriver.common.by import By\n",
    "from selenium.webdriver.support import expected_conditions as EC\n",
    "from selenium.webdriver.support.ui import WebDriverWait\n",
    "from bs4 import BeautifulSoup\n",
    "from datetime import datetime\n",
    "from webdriver_manager.firefox import GeckoDriverManager\n",
    "\n",
    "# update and run the latest Firefox webdriver\n",
    "driver = webdriver.Firefox(executable_path=GeckoDriverManager().install())"
   ]
  },
  {
   "cell_type": "code",
   "execution_count": null,
   "id": "7e540323",
   "metadata": {},
   "outputs": [],
   "source": [
    "# dicationary to turn into final table\n",
    "defi_dict = {}\n",
    "\n",
    "# class ids\n",
    "protocol = 'sc-caSCKo hKzJw'\n",
    "token = 'sc-caSCKo dIpawx'\n",
    "platform = 'sc-ksYbfQ jqDzNU css-4cffwv'\n",
    "tvl = 'sc-ksYbfQ jqDzNU css-4cffwv'\n",
    "html_id = 'sc-cHGsZl dBFEZZ css-1yh09yi'\n",
    "\n",
    "# navigation xpaths\n",
    "xpath_wait = \"/html/body/div/div/div/div[2]/div/div/div[2]/div/div[1]/div[1]/div\"\n",
    "xpath_next_page = '/html/body/div/div/div/div[2]/div/div/div[2]/div/div[4]/div[3]/div'\n",
    "xpath_pagenumber = '/html/body/div/div/div/div[2]/div/div/div[2]/div/div[4]/div[2]'\n",
    "\n",
    "# sites to iterate through\n",
    "site_dict = {'Protocols':'https://defillama.com/protocols',\n",
    "             'Dexes':'https://defillama.com/protocols/dexes',\n",
    "             'Assets':'https://defillama.com/protocols/assets',\n",
    "             'Lending':'https://defillama.com/protocols/lending',\n",
    "             'Yield':'https://defillama.com/protocols/yield',\n",
    "             'Insurance':'https://defillama.com/protocols/insurance',\n",
    "             'Options':'https://defillama.com/protocols/options',\n",
    "             'Indexes':'https://defillama.com/protocols/indexes',\n",
    "             'Staking':'https://defillama.com/protocols/staking'}\n",
    "\n",
    "\n",
    "for item in site_dict.items():\n",
    "    driver.get(item[1])\n",
    "    \n",
    "    # wait until the 'Name' element of the site has been loaded\n",
    "    try:\n",
    "        element = WebDriverWait(driver, 10).until(EC.presence_of_element_located((By.XPATH, xpath_wait)))\n",
    "    except:\n",
    "        pass\n",
    "    \n",
    "    number_of_pages = int(driver.find_element_by_xpath(xpath_pagenumber).text.split()[-1:][0])\n",
    " \n",
    "    # iterate through the pages\n",
    "    for page in range(1,number_of_pages +1):\n",
    "\n",
    "        # grab the html of each table row\n",
    "        html = driver.page_source\n",
    "        soup = BeautifulSoup(html, 'lxml')\n",
    "        html = soup.find_all(\"div\", class_ = html_id)\n",
    "        rows = html[0].find_all('div', attrs ={'style': 'height: 48px;'})\n",
    "\n",
    "        # grab the elements from the different columns in the row\n",
    "        for rownumber in range(len(rows)):\n",
    "            defi_dict[rows[rownumber].find_all('div', attrs={'class': protocol})[0].text] = \\\n",
    "                 [item[0],\n",
    "                  rows[rownumber].find_all('div', attrs={'class': token})[0].text, \n",
    "                  rows[rownumber].find_all('div', attrs={'class': platform})[0].text,\n",
    "                  rows[rownumber].find_all('div')[11].text,\n",
    "                  rows[rownumber].find_all('div')[13].text,\n",
    "                  rows[rownumber].find_all('div')[9].text,\n",
    "                  rows[rownumber].find_all('div', attrs={'class': tvl})[2].text]\n",
    "        \n",
    "        # go to the next page\n",
    "        driver.find_element_by_xpath(xpath_next_page).click()\n"
   ]
  },
  {
   "cell_type": "code",
   "execution_count": null,
   "id": "55baf1de",
   "metadata": {},
   "outputs": [],
   "source": [
    "# convert dictionary into Pandas dataframe\n",
    "df = pd.DataFrame.from_dict(defi_dict, \n",
    "                            orient='index',\n",
    "                            columns = ['Category',\n",
    "                                       'Symbol',\n",
    "                                       'Chain',\n",
    "                                       '1h Change',\n",
    "                                       '1d Change',\n",
    "                                       '7d Change',\n",
    "                                       'TVL'])\n",
    "\n",
    "# partially clean TVL text\n",
    "df['TVL_converted'] = df['TVL'].str.replace('$','', regex = True).replace(',','', regex = True)\n",
    "\n",
    "df['Snapshot_taken'] = datetime.now()\n",
    "\n",
    "df = df.reset_index().rename(columns = {'index':'Protocol'})\n",
    "df"
   ]
  },
  {
   "cell_type": "code",
   "execution_count": null,
   "id": "9c1bd013",
   "metadata": {},
   "outputs": [],
   "source": [
    "# further clearn the TVL text\n",
    "def value_to_float(x):\n",
    "    if 'b' in x:\n",
    "        return round(float(x.replace('b', '')) * 1000000000,0)\n",
    "    if 'm' in x:\n",
    "        return round(float(x.replace('m', '')) * 1000000,0)\n",
    "    else:\n",
    "        return int(x)\n",
    "\n",
    "df['TVL_converted'] = df['TVL_converted'].apply(value_to_float)\n",
    "df['TVL_converted'] = df['TVL_converted'].astype('Int64')"
   ]
  },
  {
   "cell_type": "code",
   "execution_count": null,
   "id": "4bfcebee",
   "metadata": {},
   "outputs": [],
   "source": [
    "df.to_csv('Defi llama stats ' + datetime.now().strftime('%Y.%m.%d - %Hh%Mmin') + '.csv',\n",
    "          index = False)"
   ]
  }
 ],
 "metadata": {
  "kernelspec": {
   "display_name": "Python 3",
   "language": "python",
   "name": "python3"
  },
  "language_info": {
   "codemirror_mode": {
    "name": "ipython",
    "version": 3
   },
   "file_extension": ".py",
   "mimetype": "text/x-python",
   "name": "python",
   "nbconvert_exporter": "python",
   "pygments_lexer": "ipython3",
   "version": "3.9.4"
  }
 },
 "nbformat": 4,
 "nbformat_minor": 5
}
