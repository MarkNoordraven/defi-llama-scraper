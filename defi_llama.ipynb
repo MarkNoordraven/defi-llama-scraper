{
 "cells": [
  {
   "cell_type": "code",
   "execution_count": 4,
   "id": "558476bd",
   "metadata": {},
   "outputs": [
    {
     "name": "stdout",
     "output_type": "stream",
     "text": [
      "Requirement already satisfied: pandas in c:\\users\\mn850\\appdata\\local\\programs\\python\\python39\\lib\\site-packages (1.2.4)\n",
      "Requirement already satisfied: pytz>=2017.3 in c:\\users\\mn850\\appdata\\local\\programs\\python\\python39\\lib\\site-packages (from pandas) (2021.1)\n",
      "Requirement already satisfied: numpy>=1.16.5 in c:\\users\\mn850\\appdata\\local\\programs\\python\\python39\\lib\\site-packages (from pandas) (1.20.2)\n",
      "Requirement already satisfied: python-dateutil>=2.7.3 in c:\\users\\mn850\\appdata\\local\\programs\\python\\python39\\lib\\site-packages (from pandas) (2.8.1)\n",
      "Requirement already satisfied: six>=1.5 in c:\\users\\mn850\\appdata\\roaming\\python\\python39\\site-packages (from python-dateutil>=2.7.3->pandas) (1.15.0)\n"
     ]
    },
    {
     "name": "stderr",
     "output_type": "stream",
     "text": [
      "WARNING: You are using pip version 20.2.3; however, version 21.1.1 is available.\n",
      "You should consider upgrading via the 'c:\\users\\mn850\\appdata\\local\\programs\\python\\python39\\python.exe -m pip install --upgrade pip' command.\n"
     ]
    },
    {
     "name": "stdout",
     "output_type": "stream",
     "text": [
      "Requirement already satisfied: selenium in c:\\users\\mn850\\appdata\\local\\programs\\python\\python39\\lib\\site-packages (3.141.0)\n",
      "Requirement already satisfied: urllib3 in c:\\users\\mn850\\appdata\\roaming\\python\\python39\\site-packages (from selenium) (1.26.4)\n"
     ]
    },
    {
     "name": "stderr",
     "output_type": "stream",
     "text": [
      "WARNING: You are using pip version 20.2.3; however, version 21.1.1 is available.\n",
      "You should consider upgrading via the 'c:\\users\\mn850\\appdata\\local\\programs\\python\\python39\\python.exe -m pip install --upgrade pip' command.\n"
     ]
    },
    {
     "name": "stdout",
     "output_type": "stream",
     "text": [
      "Requirement already satisfied: webdriver_manager in c:\\users\\mn850\\appdata\\local\\programs\\python\\python39\\lib\\site-packages (3.3.0)\n",
      "Requirement already satisfied: requests in c:\\users\\mn850\\appdata\\roaming\\python\\python39\\site-packages (from webdriver_manager) (2.25.1)\n",
      "Requirement already satisfied: crayons in c:\\users\\mn850\\appdata\\local\\programs\\python\\python39\\lib\\site-packages (from webdriver_manager) (0.4.0)\n",
      "Requirement already satisfied: configparser in c:\\users\\mn850\\appdata\\local\\programs\\python\\python39\\lib\\site-packages (from webdriver_manager) (5.0.2)\n",
      "Requirement already satisfied: chardet<5,>=3.0.2 in c:\\users\\mn850\\appdata\\roaming\\python\\python39\\site-packages (from requests->webdriver_manager) (4.0.0)\n",
      "Requirement already satisfied: urllib3<1.27,>=1.21.1 in c:\\users\\mn850\\appdata\\roaming\\python\\python39\\site-packages (from requests->webdriver_manager) (1.26.4)\n",
      "Requirement already satisfied: idna<3,>=2.5 in c:\\users\\mn850\\appdata\\roaming\\python\\python39\\site-packages (from requests->webdriver_manager) (2.10)\n",
      "Requirement already satisfied: certifi>=2017.4.17 in c:\\users\\mn850\\appdata\\roaming\\python\\python39\\site-packages (from requests->webdriver_manager) (2020.12.5)\n",
      "Requirement already satisfied: colorama in c:\\users\\mn850\\appdata\\local\\programs\\python\\python39\\lib\\site-packages (from crayons->webdriver_manager) (0.4.4)\n"
     ]
    },
    {
     "name": "stderr",
     "output_type": "stream",
     "text": [
      "WARNING: You are using pip version 20.2.3; however, version 21.1.1 is available.\n",
      "You should consider upgrading via the 'c:\\users\\mn850\\appdata\\local\\programs\\python\\python39\\python.exe -m pip install --upgrade pip' command.\n"
     ]
    }
   ],
   "source": [
    "# install neccesary plugins\n",
    "!pip install pandas\n",
    "!pip install selenium\n",
    "!pip install webdriver_manager\n",
    "!pip install bs4"
   ]
  },
  {
   "cell_type": "code",
   "execution_count": 1,
   "id": "5105eb2b",
   "metadata": {},
   "outputs": [
    {
     "name": "stderr",
     "output_type": "stream",
     "text": [
      "[WDM] - ====== WebDriver manager ======\n",
      "[WDM] - Driver [C:\\Users\\mn850\\.wdm\\drivers\\geckodriver\\win64\\v0.29.1\\geckodriver.exe] found in cache\n"
     ]
    },
    {
     "name": "stdout",
     "output_type": "stream",
     "text": [
      "\n",
      "\n"
     ]
    }
   ],
   "source": [
    "import pandas as pd\n",
    "import selenium\n",
    "from selenium import webdriver\n",
    "from selenium.webdriver.common.by import By\n",
    "from bs4 import BeautifulSoup\n",
    "from datetime import datetime\n",
    "from webdriver_manager.firefox import GeckoDriverManager\n",
    "driver = webdriver.Firefox(executable_path=GeckoDriverManager().install())"
   ]
  },
  {
   "cell_type": "code",
   "execution_count": 23,
   "id": "e4bf2573",
   "metadata": {},
   "outputs": [],
   "source": [
    "defi_dict = {}"
   ]
  },
  {
   "cell_type": "code",
   "execution_count": 40,
   "id": "224c6556",
   "metadata": {},
   "outputs": [
    {
     "data": {
      "text/plain": [
       "1"
      ]
     },
     "execution_count": 40,
     "metadata": {},
     "output_type": "execute_result"
    }
   ],
   "source": [
    "driver.get('https://defillama.com/protocols/staking')\n",
    "category = 'Staking'\n",
    "xpath_pagenumber = '/html/body/div/div/div/div[2]/div/div/div[2]/div/div[4]/div[2]'\n",
    "number_of_pages = int(driver.find_element_by_xpath(xpath_pagenumber).text.split()[-1:][0])\n",
    "number_of_pages"
   ]
  },
  {
   "cell_type": "code",
   "execution_count": 41,
   "id": "dc877adc",
   "metadata": {},
   "outputs": [
    {
     "name": "stdout",
     "output_type": "stream",
     "text": [
      "1\n"
     ]
    }
   ],
   "source": [
    "protocol = 'sc-caSCKo hKzJw'\n",
    "token = 'sc-caSCKo dIpawx'\n",
    "platform = 'sc-ksYbfQ jqDzNU css-4cffwv'\n",
    "tvl = 'sc-ksYbfQ jqDzNU css-4cffwv'\n",
    "xpath_next_page = '/html/body/div/div/div/div[2]/div/div/div[2]/div/div[4]/div[3]/div'\n",
    "\n",
    "\n",
    "\n",
    "\n",
    "for page in range(1,number_of_pages +1):\n",
    "    print(page)\n",
    "    \n",
    "    html = driver.page_source\n",
    "    soup = BeautifulSoup(html, 'lxml')\n",
    "    html = soup.find_all(\"div\", class_=\"sc-cHGsZl dBFEZZ css-1yh09yi\")\n",
    "    rows = html[0].find_all('div', attrs={'style': 'height: 48px;'})\n",
    "    \n",
    "\n",
    "    \n",
    "    for rownumer in range(len(rows)):\n",
    "        defi_dict[rows[rownumer].find_all('div', attrs={'class': protocol})[0].text] = \\\n",
    "             [category,\n",
    "              rows[rownumer].find_all('div', attrs={'class': token})[0].text, \n",
    "              rows[rownumer].find_all('div', attrs={'class': platform})[0].text,\n",
    "              rows[rownumer].find_all('div')[11].text,\n",
    "              rows[rownumer].find_all('div')[13].text,\n",
    "              rows[rownumer].find_all('div')[9].text,\n",
    "              rows[rownumer].find_all('div', attrs={'class': tvl})[2].text]\n",
    "\n",
    "    driver.find_element_by_xpath(xpath_next_page).click()\n",
    "    \n"
   ]
  },
  {
   "cell_type": "code",
   "execution_count": 75,
   "id": "55baf1de",
   "metadata": {},
   "outputs": [
    {
     "data": {
      "text/html": [
       "<div>\n",
       "<style scoped>\n",
       "    .dataframe tbody tr th:only-of-type {\n",
       "        vertical-align: middle;\n",
       "    }\n",
       "\n",
       "    .dataframe tbody tr th {\n",
       "        vertical-align: top;\n",
       "    }\n",
       "\n",
       "    .dataframe thead th {\n",
       "        text-align: right;\n",
       "    }\n",
       "</style>\n",
       "<table border=\"1\" class=\"dataframe\">\n",
       "  <thead>\n",
       "    <tr style=\"text-align: right;\">\n",
       "      <th></th>\n",
       "      <th>Protocol</th>\n",
       "      <th>Category</th>\n",
       "      <th>Symbol</th>\n",
       "      <th>Chain</th>\n",
       "      <th>1h Change</th>\n",
       "      <th>1d Change</th>\n",
       "      <th>7d Change</th>\n",
       "      <th>TVL</th>\n",
       "      <th>TVL_converted</th>\n",
       "      <th>Snapshot_taken</th>\n",
       "    </tr>\n",
       "  </thead>\n",
       "  <tbody>\n",
       "    <tr>\n",
       "      <th>0</th>\n",
       "      <td>AAVE</td>\n",
       "      <td>Lending</td>\n",
       "      <td>AAVE</td>\n",
       "      <td>Ethereum</td>\n",
       "      <td>+8.59%</td>\n",
       "      <td>+64.58%</td>\n",
       "      <td>-0.08%</td>\n",
       "      <td>$9.93b</td>\n",
       "      <td>9.93b</td>\n",
       "      <td>2021-04-30 23:59:00.921556</td>\n",
       "    </tr>\n",
       "    <tr>\n",
       "      <th>1</th>\n",
       "      <td>PancakeSwap</td>\n",
       "      <td>Dexes</td>\n",
       "      <td>CAKE</td>\n",
       "      <td>Binance</td>\n",
       "      <td>+2.32%</td>\n",
       "      <td>+13.12%</td>\n",
       "      <td>-0.11%</td>\n",
       "      <td>$9.93b</td>\n",
       "      <td>9.93b</td>\n",
       "      <td>2021-04-30 23:59:00.921556</td>\n",
       "    </tr>\n",
       "    <tr>\n",
       "      <th>2</th>\n",
       "      <td>MakerDAO</td>\n",
       "      <td>Protocols</td>\n",
       "      <td>MKR</td>\n",
       "      <td>Ethereum</td>\n",
       "      <td>+7.88%</td>\n",
       "      <td>+9.54%</td>\n",
       "      <td>+0.08%</td>\n",
       "      <td>$9.75b</td>\n",
       "      <td>9.75b</td>\n",
       "      <td>2021-04-30 23:59:00.921556</td>\n",
       "    </tr>\n",
       "    <tr>\n",
       "      <th>3</th>\n",
       "      <td>WBTC</td>\n",
       "      <td>Assets</td>\n",
       "      <td>WBTC</td>\n",
       "      <td>Ethereum</td>\n",
       "      <td>+7.34%</td>\n",
       "      <td>+15.76%</td>\n",
       "      <td>-0.13%</td>\n",
       "      <td>$9.2b</td>\n",
       "      <td>9.2b</td>\n",
       "      <td>2021-04-30 23:59:00.921556</td>\n",
       "    </tr>\n",
       "    <tr>\n",
       "      <th>4</th>\n",
       "      <td>Compound</td>\n",
       "      <td>Lending</td>\n",
       "      <td>COMP</td>\n",
       "      <td>Ethereum</td>\n",
       "      <td>+2.28%</td>\n",
       "      <td>+3.96%</td>\n",
       "      <td>-0.03%</td>\n",
       "      <td>$9b</td>\n",
       "      <td>9b</td>\n",
       "      <td>2021-04-30 23:59:00.921556</td>\n",
       "    </tr>\n",
       "    <tr>\n",
       "      <th>...</th>\n",
       "      <td>...</td>\n",
       "      <td>...</td>\n",
       "      <td>...</td>\n",
       "      <td>...</td>\n",
       "      <td>...</td>\n",
       "      <td>...</td>\n",
       "      <td>...</td>\n",
       "      <td>...</td>\n",
       "      <td>...</td>\n",
       "      <td>...</td>\n",
       "    </tr>\n",
       "    <tr>\n",
       "      <th>183</th>\n",
       "      <td>Shell Protocol</td>\n",
       "      <td>Dexes</td>\n",
       "      <td>-</td>\n",
       "      <td>Ethereum</td>\n",
       "      <td>-2.20%</td>\n",
       "      <td>$114,679</td>\n",
       "      <td>0%</td>\n",
       "      <td>$114,679</td>\n",
       "      <td>114679</td>\n",
       "      <td>2021-04-30 23:59:00.921556</td>\n",
       "    </tr>\n",
       "    <tr>\n",
       "      <th>184</th>\n",
       "      <td>SynLev</td>\n",
       "      <td>Protocols</td>\n",
       "      <td>SYN</td>\n",
       "      <td>Ethereum</td>\n",
       "      <td>+1.25%</td>\n",
       "      <td>+17.04%</td>\n",
       "      <td>-0.55%</td>\n",
       "      <td>$100,676</td>\n",
       "      <td>100676</td>\n",
       "      <td>2021-04-30 23:59:00.921556</td>\n",
       "    </tr>\n",
       "    <tr>\n",
       "      <th>185</th>\n",
       "      <td>Augur</td>\n",
       "      <td>Dexes</td>\n",
       "      <td>REP</td>\n",
       "      <td>Ethereum</td>\n",
       "      <td>0%</td>\n",
       "      <td>$75,013</td>\n",
       "      <td>0%</td>\n",
       "      <td>$75,013</td>\n",
       "      <td>75013</td>\n",
       "      <td>2021-04-30 23:59:00.921556</td>\n",
       "    </tr>\n",
       "    <tr>\n",
       "      <th>186</th>\n",
       "      <td>Robo-Advisor fo...</td>\n",
       "      <td>Yield</td>\n",
       "      <td>-</td>\n",
       "      <td>Ethereum</td>\n",
       "      <td>+0.58%</td>\n",
       "      <td>+4.84%</td>\n",
       "      <td>+0.01%</td>\n",
       "      <td>$45,836</td>\n",
       "      <td>45836</td>\n",
       "      <td>2021-04-30 23:59:00.921556</td>\n",
       "    </tr>\n",
       "    <tr>\n",
       "      <th>187</th>\n",
       "      <td>Prosper</td>\n",
       "      <td>Dexes</td>\n",
       "      <td>PROS</td>\n",
       "      <td>Multi-Chain</td>\n",
       "      <td>-5.42%</td>\n",
       "      <td>-35.12%</td>\n",
       "      <td>+1.67%</td>\n",
       "      <td>$4,172</td>\n",
       "      <td>4172</td>\n",
       "      <td>2021-04-30 23:59:00.921556</td>\n",
       "    </tr>\n",
       "  </tbody>\n",
       "</table>\n",
       "<p>188 rows × 10 columns</p>\n",
       "</div>"
      ],
      "text/plain": [
       "                Protocol   Category Symbol        Chain 1h Change 1d Change  \\\n",
       "0                   AAVE    Lending   AAVE     Ethereum    +8.59%   +64.58%   \n",
       "1            PancakeSwap      Dexes   CAKE      Binance    +2.32%   +13.12%   \n",
       "2               MakerDAO  Protocols    MKR     Ethereum    +7.88%    +9.54%   \n",
       "3                   WBTC     Assets   WBTC     Ethereum    +7.34%   +15.76%   \n",
       "4               Compound    Lending   COMP     Ethereum    +2.28%    +3.96%   \n",
       "..                   ...        ...    ...          ...       ...       ...   \n",
       "183       Shell Protocol      Dexes      -     Ethereum    -2.20%  $114,679   \n",
       "184               SynLev  Protocols    SYN     Ethereum    +1.25%   +17.04%   \n",
       "185                Augur      Dexes    REP     Ethereum        0%   $75,013   \n",
       "186   Robo-Advisor fo...      Yield      -     Ethereum    +0.58%    +4.84%   \n",
       "187              Prosper      Dexes   PROS  Multi-Chain    -5.42%   -35.12%   \n",
       "\n",
       "    7d Change       TVL TVL_converted             Snapshot_taken  \n",
       "0      -0.08%    $9.93b         9.93b 2021-04-30 23:59:00.921556  \n",
       "1      -0.11%    $9.93b         9.93b 2021-04-30 23:59:00.921556  \n",
       "2      +0.08%    $9.75b         9.75b 2021-04-30 23:59:00.921556  \n",
       "3      -0.13%     $9.2b          9.2b 2021-04-30 23:59:00.921556  \n",
       "4      -0.03%       $9b            9b 2021-04-30 23:59:00.921556  \n",
       "..        ...       ...           ...                        ...  \n",
       "183        0%  $114,679        114679 2021-04-30 23:59:00.921556  \n",
       "184    -0.55%  $100,676        100676 2021-04-30 23:59:00.921556  \n",
       "185        0%   $75,013         75013 2021-04-30 23:59:00.921556  \n",
       "186    +0.01%   $45,836         45836 2021-04-30 23:59:00.921556  \n",
       "187    +1.67%    $4,172          4172 2021-04-30 23:59:00.921556  \n",
       "\n",
       "[188 rows x 10 columns]"
      ]
     },
     "execution_count": 75,
     "metadata": {},
     "output_type": "execute_result"
    }
   ],
   "source": [
    "df=pd.DataFrame.from_dict(defi_dict,orient='index',\n",
    "                          columns = ['Category','Symbol', 'Chain', '1h Change', '1d Change', '7d Change', 'TVL'])\n",
    "df['TVL_converted'] = df['TVL'].str.replace('$','', regex = True).replace(',','', regex = True)\n",
    "df['Snapshot_taken'] = datetime.now()\n",
    "df = df.reset_index().rename(columns = {'index':'Protocol'})\n",
    "df"
   ]
  },
  {
   "cell_type": "code",
   "execution_count": 76,
   "id": "9c1bd013",
   "metadata": {},
   "outputs": [
    {
     "data": {
      "text/plain": [
       "0      9930000000.0\n",
       "1      9930000000.0\n",
       "2      9750000000.0\n",
       "3      9200000000.0\n",
       "4      9000000000.0\n",
       "           ...     \n",
       "183          114679\n",
       "184          100676\n",
       "185           75013\n",
       "186           45836\n",
       "187            4172\n",
       "Name: TVL_converted, Length: 188, dtype: object"
      ]
     },
     "execution_count": 76,
     "metadata": {},
     "output_type": "execute_result"
    }
   ],
   "source": [
    "def value_to_float(x):\n",
    "    if 'b' in x:\n",
    "        return float(x.replace('b', '')) * 1000000000\n",
    "    if 'm' in x:\n",
    "        return float(x.replace('m', '')) * 1000000\n",
    "    else:\n",
    "        return x\n",
    "\n",
    "df['TVL_converted'] = df['TVL_converted'].apply(value_to_float)\n",
    "df['TVL_converted']"
   ]
  },
  {
   "cell_type": "code",
   "execution_count": 77,
   "id": "4bfcebee",
   "metadata": {},
   "outputs": [],
   "source": [
    "df.to_csv('Defi llama stats ' + datetime.now().strftime('%Y.%m.%d - %Hh%Mmin') + '.csv',\n",
    "          index = False)"
   ]
  }
 ],
 "metadata": {
  "kernelspec": {
   "display_name": "Python 3",
   "language": "python",
   "name": "python3"
  },
  "language_info": {
   "codemirror_mode": {
    "name": "ipython",
    "version": 3
   },
   "file_extension": ".py",
   "mimetype": "text/x-python",
   "name": "python",
   "nbconvert_exporter": "python",
   "pygments_lexer": "ipython3",
   "version": "3.9.4"
  }
 },
 "nbformat": 4,
 "nbformat_minor": 5
}
